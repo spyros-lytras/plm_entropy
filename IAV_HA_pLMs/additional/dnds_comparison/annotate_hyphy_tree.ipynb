{
 "cells": [
  {
   "cell_type": "code",
   "execution_count": 11,
   "id": "0ecb4cb3",
   "metadata": {},
   "outputs": [],
   "source": [
    "import ete3\n",
    "import re"
   ]
  },
  {
   "cell_type": "code",
   "execution_count": 12,
   "id": "aec550bb",
   "metadata": {},
   "outputs": [],
   "source": [
    "h3tree = ete3.Tree('ncbi_h3n2_110424_filt_tf.nwk', format=1)\n",
    "\n",
    "#remove all unused branch lengthsn -> keep only internal nodes with >1000 children\n",
    "h3tree.ladderize()\n",
    "\n",
    "for n in h3tree.traverse():\n",
    "    if (n.is_leaf() == False) and (len(n.get_leaf_names()) > 1000):\n",
    "        if 'NODE' in n.name: \n",
    "            n.add_feature('annot', \"{Foreground}\") \n",
    "\n",
    "\n",
    "nhxf = h3tree.write(format=1, features=['annot']) \n",
    "\n",
    "nhxfre = \"(:\\d*\\.?\\d*)(\\[\\&\\&NHX:annot\\=\\{Foreground\\}\\])\" \n",
    " \n",
    "therep = re.findall(nhxfre, nhxf) \n",
    " \n",
    "for r in therep: \n",
    "    blen = r[0] \n",
    "    tag = r[1] \n",
    "    nhxf = nhxf.replace(str(blen + tag), str('{Foreground}' + blen)) \n",
    "    \n",
    "nhxfre_exp = \"(:\\d*\\.?\\d*e-\\d*)(\\[\\&\\&NHX:annot\\=\\{Foreground\\}\\])\" \n",
    " \n",
    "therep_exp = re.findall(nhxfre_exp, nhxf) \n",
    " \n",
    "for r in therep_exp: \n",
    "    blen = r[0] \n",
    "    tag = r[1] \n",
    "    nhxf = nhxf.replace(str(blen + tag), str('{Foreground}' + blen)) \n",
    "     \n",
    "        \n",
    "with open('ncbi_h3n2_110424_filt_tf_hyphy.nwk', 'w') as out: \n",
    "    out.write(nhxf)"
   ]
  },
  {
   "cell_type": "markdown",
   "id": "8e34870d",
   "metadata": {},
   "source": [
    "### Run absrel\n",
    "\n",
    "`hyphy CPU=30 absrel --alignment ncbi_h3n2_110424_filt_tf.fas --tree ncbi_h3n2_110424_filt_tf_hyphy.nwk --branches Foreground  \"ENV=TOLERATE_NUMERICAL_ERRORS=1;\"`"
   ]
  }
 ],
 "metadata": {
  "kernelspec": {
   "display_name": "Python 3 (ipykernel)",
   "language": "python",
   "name": "python3"
  },
  "language_info": {
   "codemirror_mode": {
    "name": "ipython",
    "version": 3
   },
   "file_extension": ".py",
   "mimetype": "text/x-python",
   "name": "python",
   "nbconvert_exporter": "python",
   "pygments_lexer": "ipython3",
   "version": "3.11.5"
  }
 },
 "nbformat": 4,
 "nbformat_minor": 5
}
